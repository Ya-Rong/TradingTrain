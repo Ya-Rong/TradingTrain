{
 "cells": [
  {
   "cell_type": "code",
   "execution_count": 3,
   "metadata": {},
   "outputs": [],
   "source": [
    "import requests\n",
    "from bs4 import BeautifulSoup\n",
    "import pymongo\n",
    "from pymongo import MongoClient"
   ]
  },
  {
   "cell_type": "code",
   "execution_count": 4,
   "metadata": {},
   "outputs": [],
   "source": [
    "# connect pymongo\n",
    "client = MongoClient(\"mongodb://localhost:27017\")\n",
    "# connect Database\n",
    "db = client[\"May\"]\n",
    "# connect collection\n",
    "col = db[\"0506\"]\n",
    "\n",
    "# 爬取機票資訊\n",
    "url = \"https://www.skyscanner.com.tw/transport/flights/tpet/kix/230511/230518/?adults=1&adultsv2=1&cabinclass=economy&children=0&childrenv2=&destinationentityid=27542908&inboundaltsenabled=false&infants=0&originentityid=27547236&outboundaltsenabled=false&preferdirects=false&ref=home&rtn=1\"\n",
    "headers = {\n",
    "    \"User-Agent\": \"Mozilla/5.0 (Windows NT 10.0; Win64; x64) AppleWebKit/537.36 (KHTML, like Gecko) Chrome/58.0.3029.110 Safari/537.3\"}\n",
    "\n",
    "response = requests.get(url, headers=headers)\n",
    "soup = BeautifulSoup(response.text, 'html.parser')\n",
    "\n",
    "# 解析機票資訊\n",
    "flights = soup.select('.flight')\n",
    "for flight in flights:\n",
    "    data = {\n",
    "        \"airline_name\": flight.select_one('.airline-name').text.strip(),\n",
    "        \"flight_number\": flight.select_one('.flight-number').text.strip(),\n",
    "        \"origin_destination\": flight.select_one('.origin-destination').text.strip(),\n",
    "        \"depart_time\": flight.select_one('.depart-time').text.strip(),\n",
    "        \"arrive_time\": flight.select_one('.arrive-time').text.strip(),\n",
    "        \"price\": flight.select_one('.price').text.strip()\n",
    "    }\n",
    "    # 将機票資訊插入 MongoDB 数据库\n",
    "    collection.insert_one(data)\n"
   ]
  }
 ],
 "metadata": {
  "kernelspec": {
   "display_name": "tutorial-env",
   "language": "python",
   "name": "python3"
  },
  "language_info": {
   "codemirror_mode": {
    "name": "ipython",
    "version": 3
   },
   "file_extension": ".py",
   "mimetype": "text/x-python",
   "name": "python",
   "nbconvert_exporter": "python",
   "pygments_lexer": "ipython3",
   "version": "3.10.11"
  },
  "orig_nbformat": 4
 },
 "nbformat": 4,
 "nbformat_minor": 2
}
