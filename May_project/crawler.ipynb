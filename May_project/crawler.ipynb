{
 "cells": [
  {
   "cell_type": "code",
   "execution_count": null,
   "metadata": {},
   "outputs": [],
   "source": [
    "!pip3 install pymongo"
   ]
  },
  {
   "cell_type": "code",
   "execution_count": null,
   "metadata": {},
   "outputs": [],
   "source": [
    "import requests\n",
    "import bs4\n",
    "from bs4 import BeautifulSoup\n",
    "import pymongo\n",
    "from pymongo import MongoClient\n",
    "import json\n",
    "import time"
   ]
  },
  {
   "cell_type": "code",
   "execution_count": null,
   "metadata": {},
   "outputs": [],
   "source": [
    "# connect pymongo\n",
    "client = MongoClient(\"mongodb://localhost:27017\")\n",
    "\n",
    "client.list_database_names()"
   ]
  },
  {
   "cell_type": "code",
   "execution_count": null,
   "metadata": {},
   "outputs": [],
   "source": [
    "# connect Database\n",
    "db = client[\"May\"]\n",
    "# connect collection\n",
    "col = db[\"0506\"]"
   ]
  },
  {
   "cell_type": "code",
   "execution_count": null,
   "metadata": {},
   "outputs": [],
   "source": [
    "# data = []\n",
    "\n",
    "# 爬取機票資訊\n",
    "url = \"https://www.skyscanner.com.tw/transport/flights/tpet/kix/230511/230518/?adults=1&adultsv2=1&cabinclass=economy&children=0&childrenv2=&destinationentityid=27542908&inboundaltsenabled=false&infants=0&originentityid=27547236&outboundaltsenabled=false&preferdirects=false&ref=home&rtn=1\"\n",
    "# headers = {\n",
    "#     \"User-Agent\": \"Mozilla/5.0 (Windows NT 10.0; Win64; x64) AppleWebKit/537.36 (KHTML, like Gecko) Chrome/58.0.3029.110 Safari/537.3\"}\n",
    "\n",
    "response = requests.get(url)\n",
    "soup = bs4.BeautifulSoup(response.text, 'html.parser')   \n"
   ]
  },
  {
   "cell_type": "code",
   "execution_count": null,
   "metadata": {},
   "outputs": [],
   "source": [
    "# import url\n",
    "url = f'https://www.skyscanner.com.tw/transport/flights/tpet/kix/230511/230518/?adults=1&adultsv2=1&cabinclass=economy&children=0&childrenv2=&destinationentityid=27542908&inboundaltsenabled=false&infants=0&originentityid=27547236&outboundaltsenabled=false&preferdirects=false&ref=home&rtn=1'\n",
    "\n",
    "title_list = []\n",
    "titles = soup.find_all(\"a\", class_=\"FlightsTicket_link__ODZjM\")\n",
    "\n",
    "# a = requests.get(url)\n",
    "# result = a.json()\n",
    "    \n",
    "title_list.append(titles)\n",
    "\n",
    "print(title_list)"
   ]
  },
  {
   "cell_type": "code",
   "execution_count": null,
   "metadata": {},
   "outputs": [],
   "source": [
    "# 取得機票資訊的元素\n",
    "flight_elements = soup.find_all('div', {'class': 'Common-Booking-MultiLineItinerary-MultiLineItinerary__container--2vFH2'})\n",
    "\n",
    "# 將每個機票資訊存入 MongoDB\n",
    "for element in flight_elements:\n",
    "    title = element.find('a', {'class': 'FlightsTicket_link__ODZjM'}).text\n",
    "    price = element.find('div', {'class': 'Price_mainPriceContainer__1dqsw'}).text\n",
    "    col.insert_one({'title': title, 'price': price})\n",
    "\n",
    "# 顯示資料庫中的所有機票資訊\n",
    "for item in col.find():\n",
    "    print(item)\n"
   ]
  },
  {
   "cell_type": "code",
   "execution_count": null,
   "metadata": {},
   "outputs": [],
   "source": []
  },
  {
   "cell_type": "code",
   "execution_count": null,
   "metadata": {},
   "outputs": [],
   "source": [
    "pip install requests\n",
    "pip install json\n",
    "pip install datetime"
   ]
  },
  {
   "cell_type": "code",
   "execution_count": null,
   "metadata": {},
   "outputs": [],
   "source": [
    "https://partners.api.skyscanner.net/apiservices/browsequotes/v1.0/UK/GBP/en-GB/LOND-sky/NYCA-sky/anytime/anytime?apikey={prtl6749387986743898559646983194}"
   ]
  },
  {
   "cell_type": "code",
   "execution_count": null,
   "metadata": {},
   "outputs": [],
   "source": [
    "import requests\n",
    "import json\n",
    "import datetime\n",
    "\n",
    "url = \"https://partners.api.skyscanner.net/apiservices/browsequotes/v1.0/UK/GBP/en-GB/LOND-sky/NYCA-sky/anytime/anytime?apikey={YOUR_API_KEY}\"\n",
    "\n",
    "response = requests.get(url)\n",
    "data = json.loads(response.text)\n",
    "\n",
    "# 將資料寫入檔案\n",
    "filename = datetime.datetime.now().strftime(\"%Y%m%d%H%M%S\") + \".json\"\n",
    "with open(filename, \"w\") as f:\n",
    "    json.dump(data, f)\n"
   ]
  },
  {
   "cell_type": "code",
   "execution_count": null,
   "metadata": {},
   "outputs": [],
   "source": []
  }
 ],
 "metadata": {
  "kernelspec": {
   "display_name": "tutorial-env",
   "language": "python",
   "name": "python3"
  },
  "language_info": {
   "codemirror_mode": {
    "name": "ipython",
    "version": 3
   },
   "file_extension": ".py",
   "mimetype": "text/x-python",
   "name": "python",
   "nbconvert_exporter": "python",
   "pygments_lexer": "ipython3",
   "version": "3.10.11"
  },
  "orig_nbformat": 4
 },
 "nbformat": 4,
 "nbformat_minor": 2
}
