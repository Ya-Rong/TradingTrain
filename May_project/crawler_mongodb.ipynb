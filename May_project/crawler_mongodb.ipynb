{
 "cells": [
  {
   "cell_type": "code",
   "execution_count": 27,
   "metadata": {},
   "outputs": [],
   "source": [
    "import requests\n",
    "from bs4 import BeautifulSoup\n",
    "from pymongo import MongoClient"
   ]
  },
  {
   "cell_type": "code",
   "execution_count": 28,
   "metadata": {},
   "outputs": [],
   "source": [
    "# connect pymongo\n",
    "client = MongoClient(\"mongodb://localhost:27017\")\n",
    "# client.list_database_names()\n",
    "# connect Database\n",
    "db = client[\"May\"]\n",
    "# connect collection\n",
    "col = db[\"0506\"]"
   ]
  },
  {
   "cell_type": "code",
   "execution_count": 44,
   "metadata": {},
   "outputs": [],
   "source": [
    "# 設定要爬取的網址\n",
    "url = 'https://www.skyscanner.com.tw/transport/flights/tpet/kix/230511/230518/?adults=1&adultsv2=1&cabinclass=economy&children=0&childrenv2=&destinationentityid=27542908&inboundaltsenabled=false&infants=0&originentityid=27547236&outboundaltsenabled=false&preferdirects=false&ref=home&rtn=1'\n",
    "\n",
    "# 發送 GET 請求並取得 HTML 網頁原始碼\n",
    "response = requests.get(url)\n",
    "html = response.text\n",
    "\n",
    "# 解析 HTML 網頁原始碼\n",
    "soup = BeautifulSoup(response.text, 'html.parser')\n",
    "\n",
    "# print(soup.prettify())"
   ]
  },
  {
   "cell_type": "code",
   "execution_count": 51,
   "metadata": {},
   "outputs": [
    {
     "name": "stdout",
     "output_type": "stream",
     "text": [
      "{\"message\":\"You are not subscribed to this API.\"}\n"
     ]
    }
   ],
   "source": [
    "import requests\n",
    "import json\n",
    "from pymongo import MongoClient\n",
    "\n",
    "# 設定要爬取的起點和終點城市代碼、出發日和返程日\n",
    "origin = 'TPE'\n",
    "destination = 'KIX'\n",
    "outbound_date = '2022-05-20'\n",
    "inbound_date = '2022-05-25'\n",
    "\n",
    "# 設定 API 的 URL 和參數\n",
    "url = 'https://skyscanner-skyscanner-flight-search-v1.p.rapidapi.com/apiservices/browsedates/v1.0/TW/TWD/zh-TW/{}/{}/{}/{}/'.format(origin, destination, outbound_date, inbound_date)\n",
    "headers = {\n",
    "    'X-RapidAPI-Host': 'skyscanner-skyscanner-flight-search-v1.p.rapidapi.com',\n",
    "    'X-RapidAPI-Key': 'prtl6749387986743898559646983194'\n",
    "}\n",
    "\n",
    "# 發送 GET 請求並取得 JSON 資料\n",
    "response = requests.get(url, headers=headers)\n",
    "data = response.json()\n",
    "\n",
    "print(response.text)"
   ]
  },
  {
   "cell_type": "code",
   "execution_count": 68,
   "metadata": {},
   "outputs": [
    {
     "name": "stdout",
     "output_type": "stream",
     "text": [
      "{\"code\":3,\"message\":\"The currency is missing\\nThe locale is missing\\nThe market is missing\\nThe query leg list must contain at least 1 leg\\nThe number of adults must be between 1 and 8\\nThe cabin class is invalid\",\"details\":[]}\n"
     ]
    }
   ],
   "source": [
    "import requests\n",
    "import json\n",
    "from pymongo import MongoClient\n",
    "\n",
    "# 設定要爬取的起點和終點城市代碼、出發日和返程日\n",
    "origin = 'TPE'\n",
    "destination = 'KIX'\n",
    "outbound_date = '2022-05-20'\n",
    "inbound_date = '2022-05-25'\n",
    "\n",
    "# 設定 API 的 URL 和參數\n",
    "url = 'https://partners.api.skyscanner.net/apiservices/v3/flights/live/search/create'\n",
    "headers = {\n",
    "    'x-api-key': 'prtl6749387986743898559646983194',\n",
    "    'Content-Type': 'application/json'\n",
    "}\n",
    "params = {\n",
    "    'body': {\n",
    "        'query': {\n",
    "            'originPlace': origin,\n",
    "            'destinationPlace': destination,\n",
    "            'outboundDate': outbound_date,\n",
    "            'inboundDate': inbound_date,\n",
    "            'cabinClass': 'economy',\n",
    "            'adults': 1,\n",
    "            'children': 0,\n",
    "            'infants': 0,\n",
    "            'locale': 'en-US',\n",
    "            'currency': 'USD',\n",
    "            'flightType': 'roundtrip'\n",
    "        }\n",
    "    }\n",
    "}\n",
    "\n",
    "# 發送 POST 請求並取得 JSON 資料\n",
    "response = requests.post(url, headers=headers, data=json.dumps(params))\n",
    "data = response.json()\n",
    "\n",
    "print(response.text)"
   ]
  },
  {
   "cell_type": "code",
   "execution_count": 66,
   "metadata": {},
   "outputs": [
    {
     "ename": "KeyError",
     "evalue": "'Quotes'",
     "output_type": "error",
     "traceback": [
      "\u001b[1;31m---------------------------------------------------------------------------\u001b[0m",
      "\u001b[1;31mKeyError\u001b[0m                                  Traceback (most recent call last)",
      "Cell \u001b[1;32mIn[66], line 2\u001b[0m\n\u001b[0;32m      1\u001b[0m \u001b[39m# 將 JSON 資料存入 MongoDB\u001b[39;00m\n\u001b[1;32m----> 2\u001b[0m \u001b[39mfor\u001b[39;00m quote \u001b[39min\u001b[39;00m data[\u001b[39m'\u001b[39;49m\u001b[39mQuotes\u001b[39;49m\u001b[39m'\u001b[39;49m]:\n\u001b[0;32m      3\u001b[0m     doc \u001b[39m=\u001b[39m {\n\u001b[0;32m      4\u001b[0m         \u001b[39m'\u001b[39m\u001b[39mcarrier_name\u001b[39m\u001b[39m'\u001b[39m: \u001b[39mnext\u001b[39m((carrier[\u001b[39m'\u001b[39m\u001b[39mName\u001b[39m\u001b[39m'\u001b[39m] \u001b[39mfor\u001b[39;00m carrier \u001b[39min\u001b[39;00m data[\u001b[39m'\u001b[39m\u001b[39mCarriers\u001b[39m\u001b[39m'\u001b[39m] \u001b[39mif\u001b[39;00m carrier[\u001b[39m'\u001b[39m\u001b[39mCarrierId\u001b[39m\u001b[39m'\u001b[39m] \u001b[39m==\u001b[39m quote[\u001b[39m'\u001b[39m\u001b[39mOutboundLeg\u001b[39m\u001b[39m'\u001b[39m][\u001b[39m'\u001b[39m\u001b[39mCarrierIds\u001b[39m\u001b[39m'\u001b[39m][\u001b[39m0\u001b[39m]), \u001b[39mNone\u001b[39;00m),\n\u001b[0;32m      5\u001b[0m         \u001b[39m'\u001b[39m\u001b[39moutbound_date\u001b[39m\u001b[39m'\u001b[39m: quote[\u001b[39m'\u001b[39m\u001b[39mOutboundLeg\u001b[39m\u001b[39m'\u001b[39m][\u001b[39m'\u001b[39m\u001b[39mDepartureDate\u001b[39m\u001b[39m'\u001b[39m],\n\u001b[0;32m      6\u001b[0m         \u001b[39m'\u001b[39m\u001b[39minbound_date\u001b[39m\u001b[39m'\u001b[39m: quote[\u001b[39m'\u001b[39m\u001b[39mInboundLeg\u001b[39m\u001b[39m'\u001b[39m][\u001b[39m'\u001b[39m\u001b[39mDepartureDate\u001b[39m\u001b[39m'\u001b[39m],\n\u001b[0;32m      7\u001b[0m         \u001b[39m'\u001b[39m\u001b[39mprice\u001b[39m\u001b[39m'\u001b[39m: quote[\u001b[39m'\u001b[39m\u001b[39mMinPrice\u001b[39m\u001b[39m'\u001b[39m]\n\u001b[0;32m      8\u001b[0m     }\n\u001b[0;32m      9\u001b[0m     col\u001b[39m.\u001b[39minsert_one(doc)\n",
      "\u001b[1;31mKeyError\u001b[0m: 'Quotes'"
     ]
    }
   ],
   "source": [
    "# 將 JSON 資料存入 MongoDB\n",
    "for quote in data['Quotes']:\n",
    "    doc = {\n",
    "        'carrier_name': next((carrier['Name'] for carrier in data['Carriers'] if carrier['CarrierId'] == quote['OutboundLeg']['CarrierIds'][0]), None),\n",
    "        'outbound_date': quote['OutboundLeg']['DepartureDate'],\n",
    "        'inbound_date': quote['InboundLeg']['DepartureDate'],\n",
    "        'price': quote['MinPrice']\n",
    "    }\n",
    "    col.insert_one(doc)\n"
   ]
  },
  {
   "cell_type": "code",
   "execution_count": 63,
   "metadata": {},
   "outputs": [
    {
     "name": "stdout",
     "output_type": "stream",
     "text": [
      "{'method': 'POST', 'url': 'https://partners.api.skyscanner.net/apiservices/v3/flights/live/search/create', 'headers': {'User-Agent': 'python-requests/2.28.1', 'Accept-Encoding': 'gzip, deflate', 'Accept': '*/*', 'Connection': 'keep-alive', 'x-api-key': 'prtl6749387986743898559646983194', 'Content-Type': 'application/json', 'Content-Length': '261'}, '_cookies': <RequestsCookieJar[]>, 'body': '{\"body\": {\"query\": {\"originPlace\": \"TPE\", \"destinationPlace\": \"KIX\", \"outboundDate\": \"2022-05-20\", \"inboundDate\": \"2022-05-25\", \"cabinClass\": \"economy\", \"adults\": 1, \"children\": 0, \"infants\": 0, \"locale\": \"en-US\", \"currency\": \"USD\", \"flightType\": \"roundtrip\"}}}', 'hooks': {'response': []}, '_body_position': None}\n"
     ]
    }
   ],
   "source": [
    "print(response.request.__dict__)"
   ]
  },
  {
   "cell_type": "code",
   "execution_count": 62,
   "metadata": {},
   "outputs": [
    {
     "name": "stdout",
     "output_type": "stream",
     "text": [
      "{'code': 8, 'message': '', 'details': []}\n"
     ]
    }
   ],
   "source": [
    "print(data)"
   ]
  },
  {
   "cell_type": "code",
   "execution_count": 56,
   "metadata": {},
   "outputs": [],
   "source": [
    "# 連接 MongoDB\n",
    "client = MongoClient('mongodb://localhost:27017/')\n",
    "db = client['May']\n",
    "collection = db['0506']"
   ]
  },
  {
   "cell_type": "code",
   "execution_count": 61,
   "metadata": {},
   "outputs": [
    {
     "ename": "KeyError",
     "evalue": "'Quotes'",
     "output_type": "error",
     "traceback": [
      "\u001b[1;31m---------------------------------------------------------------------------\u001b[0m",
      "\u001b[1;31mKeyError\u001b[0m                                  Traceback (most recent call last)",
      "Cell \u001b[1;32mIn[61], line 2\u001b[0m\n\u001b[0;32m      1\u001b[0m \u001b[39m# 將 JSON 資料存入 MongoDB\u001b[39;00m\n\u001b[1;32m----> 2\u001b[0m \u001b[39mfor\u001b[39;00m quote \u001b[39min\u001b[39;00m data[\u001b[39m'\u001b[39;49m\u001b[39mQuotes\u001b[39;49m\u001b[39m'\u001b[39;49m]:\n\u001b[0;32m      3\u001b[0m     doc \u001b[39m=\u001b[39m {\n\u001b[0;32m      4\u001b[0m         \u001b[39m'\u001b[39m\u001b[39mcarrier_name\u001b[39m\u001b[39m'\u001b[39m: \u001b[39mnext\u001b[39m((carrier[\u001b[39m'\u001b[39m\u001b[39mName\u001b[39m\u001b[39m'\u001b[39m] \u001b[39mfor\u001b[39;00m carrier \u001b[39min\u001b[39;00m data[\u001b[39m'\u001b[39m\u001b[39mCarriers\u001b[39m\u001b[39m'\u001b[39m] \u001b[39mif\u001b[39;00m carrier[\u001b[39m'\u001b[39m\u001b[39mCarrierId\u001b[39m\u001b[39m'\u001b[39m] \u001b[39m==\u001b[39m quote[\u001b[39m'\u001b[39m\u001b[39mOutboundLeg\u001b[39m\u001b[39m'\u001b[39m][\u001b[39m'\u001b[39m\u001b[39mCarrierIds\u001b[39m\u001b[39m'\u001b[39m][\u001b[39m0\u001b[39m]), \u001b[39mNone\u001b[39;00m),\n\u001b[0;32m      5\u001b[0m         \u001b[39m'\u001b[39m\u001b[39moutbound_date\u001b[39m\u001b[39m'\u001b[39m: quote[\u001b[39m'\u001b[39m\u001b[39mOutboundLeg\u001b[39m\u001b[39m'\u001b[39m][\u001b[39m'\u001b[39m\u001b[39mDepartureDate\u001b[39m\u001b[39m'\u001b[39m],\n\u001b[0;32m      6\u001b[0m         \u001b[39m'\u001b[39m\u001b[39minbound_date\u001b[39m\u001b[39m'\u001b[39m: quote[\u001b[39m'\u001b[39m\u001b[39mInboundLeg\u001b[39m\u001b[39m'\u001b[39m][\u001b[39m'\u001b[39m\u001b[39mDepartureDate\u001b[39m\u001b[39m'\u001b[39m],\n\u001b[0;32m      7\u001b[0m         \u001b[39m'\u001b[39m\u001b[39mprice\u001b[39m\u001b[39m'\u001b[39m: quote[\u001b[39m'\u001b[39m\u001b[39mMinPrice\u001b[39m\u001b[39m'\u001b[39m]\n\u001b[0;32m      8\u001b[0m     }\n\u001b[0;32m      9\u001b[0m     collection\u001b[39m.\u001b[39minsert_one(doc)\n",
      "\u001b[1;31mKeyError\u001b[0m: 'Quotes'"
     ]
    }
   ],
   "source": [
    "# 將 JSON 資料存入 MongoDB\n",
    "for quote in data['Quotes']:\n",
    "    doc = {\n",
    "        'carrier_name': next((carrier['Name'] for carrier in data['Carriers'] if carrier['CarrierId'] == quote['OutboundLeg']['CarrierIds'][0]), None),\n",
    "        'outbound_date': quote['OutboundLeg']['DepartureDate'],\n",
    "        'inbound_date': quote['InboundLeg']['DepartureDate'],\n",
    "        'price': quote['MinPrice']\n",
    "    }\n",
    "    collection.insert_one(doc)\n",
    "\n",
    "print('Done!')"
   ]
  }
 ],
 "metadata": {
  "kernelspec": {
   "display_name": "tutorial-env",
   "language": "python",
   "name": "python3"
  },
  "language_info": {
   "codemirror_mode": {
    "name": "ipython",
    "version": 3
   },
   "file_extension": ".py",
   "mimetype": "text/x-python",
   "name": "python",
   "nbconvert_exporter": "python",
   "pygments_lexer": "ipython3",
   "version": "3.10.11"
  },
  "orig_nbformat": 4
 },
 "nbformat": 4,
 "nbformat_minor": 2
}
