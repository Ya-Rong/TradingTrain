{
 "cells": [
  {
   "cell_type": "code",
   "execution_count": 161,
   "metadata": {},
   "outputs": [],
   "source": [
    "import requests\n",
    "import time"
   ]
  },
  {
   "cell_type": "code",
   "execution_count": 162,
   "metadata": {},
   "outputs": [
    {
     "name": "stdout",
     "output_type": "stream",
     "text": [
      "1\n",
      "2\n",
      "3\n",
      "4\n",
      "5\n",
      "6\n",
      "7\n",
      "8\n",
      "9\n",
      "10\n"
     ]
    }
   ],
   "source": [
    "for page in range(1,11):\n",
    "\n",
    "    print(page)\n",
    "    \n",
    "    # import url\n",
    "    url = f'https://ecshweb.pchome.com.tw/search/v3.3/all/results?q=%E7%AD%86%E9%9B%BB&page={page}&sort=sale/dc'\n",
    "    # get web data\n",
    "    a = requests.get(url)\n",
    "    result = a.json()\n",
    "\n",
    "    time.sleep(0.5)"
   ]
  },
  {
   "cell_type": "code",
   "execution_count": 166,
   "metadata": {},
   "outputs": [
    {
     "name": "stdout",
     "output_type": "stream",
     "text": [
      "Requirement already satisfied: pymongo in c:\\programdata\\anaconda3\\lib\\site-packages (4.3.3)\n",
      "Requirement already satisfied: dnspython<3.0.0,>=1.16.0 in c:\\programdata\\anaconda3\\lib\\site-packages (from pymongo) (2.2.1)\n"
     ]
    }
   ],
   "source": [
    "!pip3 install pymongo"
   ]
  },
  {
   "cell_type": "code",
   "execution_count": 167,
   "metadata": {},
   "outputs": [],
   "source": [
    "from pymongo import MongoClient"
   ]
  },
  {
   "cell_type": "code",
   "execution_count": 168,
   "metadata": {},
   "outputs": [],
   "source": [
    "# connect pymongo\n",
    "client = MongoClient(\"mongodb://localhost:27017\")"
   ]
  },
  {
   "cell_type": "code",
   "execution_count": 169,
   "metadata": {},
   "outputs": [],
   "source": [
    "# connect Database\n",
    "db = client[\"HW4\"]"
   ]
  },
  {
   "cell_type": "code",
   "execution_count": 170,
   "metadata": {},
   "outputs": [],
   "source": [
    "# connect collection\n",
    "col = db[\"try3\"]"
   ]
  },
  {
   "cell_type": "code",
   "execution_count": 171,
   "metadata": {},
   "outputs": [
    {
     "name": "stdout",
     "output_type": "stream",
     "text": [
      "<pymongo.results.InsertOneResult object at 0x000001AC212C4850>\n"
     ]
    }
   ],
   "source": [
    "# insert one\n",
    "dict = {\n",
    "    \"name\":\"laptop\",\n",
    "    \"describe\":\"3\",\n",
    "    \"price\":\"30000\",\n",
    "    \"orignPrice\":\"30000\",\n",
    "    \"channel\":\"pchome\"\n",
    "    }\n",
    "\n",
    "x = col.insert_one(dict)\n",
    "print(x)"
   ]
  },
  {
   "cell_type": "code",
   "execution_count": 172,
   "metadata": {},
   "outputs": [
    {
     "data": {
      "text/plain": [
       "<pymongo.results.InsertManyResult at 0x1ac212c4610>"
      ]
     },
     "execution_count": 172,
     "metadata": {},
     "output_type": "execute_result"
    }
   ],
   "source": [
    "# insert many\n",
    "# save to mongodb\n",
    "col.insert_many(result['prods'])"
   ]
  },
  {
   "cell_type": "code",
   "execution_count": 174,
   "metadata": {},
   "outputs": [
    {
     "name": "stdout",
     "output_type": "stream",
     "text": [
      "63a452ba0fb30afb88e77ad7\n",
      "63a452ba0fb30afb88e77ad8\n",
      "63a452ba0fb30afb88e77ad9\n",
      "63a452ba0fb30afb88e77ada\n",
      "63a452ba0fb30afb88e77adb\n",
      "63a452ba0fb30afb88e77adc\n",
      "63a452ba0fb30afb88e77add\n",
      "63a452ba0fb30afb88e77ade\n",
      "63a452ba0fb30afb88e77adf\n",
      "63a452ba0fb30afb88e77ae0\n",
      "63a452ba0fb30afb88e77ae1\n",
      "63a452ba0fb30afb88e77ae2\n",
      "63a452ba0fb30afb88e77ae3\n",
      "63a452ba0fb30afb88e77ae4\n",
      "63a452ba0fb30afb88e77ae5\n",
      "63a452ba0fb30afb88e77ae6\n",
      "63a452ba0fb30afb88e77ae7\n",
      "63a452ba0fb30afb88e77ae8\n",
      "63a452ba0fb30afb88e77ae9\n",
      "63a452ba0fb30afb88e77aea\n",
      "63a452ba0fb30afb88e77aeb\n"
     ]
    }
   ],
   "source": [
    "# find data : _id\n",
    "cursor = col.find()\n",
    "for record in cursor:\n",
    "\t# print(record)\n",
    "\trecord.get(\"_id\")\n",
    "\tprint(record.get(\"_id\"))\n"
   ]
  },
  {
   "cell_type": "code",
   "execution_count": 175,
   "metadata": {},
   "outputs": [
    {
     "name": "stdout",
     "output_type": "stream",
     "text": [
      "laptop\n",
      "ROG Flow Z13 GZ301ZE-0021A12900H 無盡黑(i9-12900H/8G+8G/RTX3050 Ti/1TB PCIe/W11)\n",
      "ROG Strix G17 G713RW-0022F6900HX(AMD R9-6900HX/16G/RTX3070 Ti/1TB PCIe/W11/FHD/360Hz/17.3)\n",
      "ROG Zephyrus M16 GU603ZM-0032A12700H (i7-12700H/8GB*2/RTX 3060/512GB PCIe/W11/165Hz/16)\n",
      "ROG Zephyrus G15 GA503RW-0042E6900HS(AMD R9-6900HS/16G/RTX 3070Ti/1TB PCIe/W11/WQHD)\n",
      "ASUS VivoBook S15 S3502ZA-0242K12500H 搖滾黑(i5-12500H/8G+8G/512G PCIe/W11/OLED/15.6)\n",
      "ASUS VivoBook 16 X1605ZA-0031K1235U 搖滾黑(i5-1235U/8G/512G PCIe/W11/FHD/16)\n",
      "ASUS B1408CEAE_T-0111A1135G7 黑 (i5-1135G7/8G/512G PCIe/W10P/FHD/14)\n",
      "ASUS B1400CBA-0131A1235U 黑 (i5-1235U/16G/512G PCIe/W11P/FHD/14)\n",
      "ASUS B1508CEAE_T-0011A1135G7 黑 (i5-1135G7/8G/512G PCIe/W10P/FHD/15.6)\n",
      "ASUS B1408CEAE_T-0121A1165G7 黑 (i7-1165G7/8G/512G PCIe/W10P/FHD/14)\n",
      "ASUS Vivobook 13 Slate OLED T3300KA-0302KN6000 (N6000/8G/128G PCIe/OLED_T/W11 Home S/FHD/13.3)\n",
      "ASUS VivoBook S15 S3502ZA-0262E12500H 初心綠(i5-12500H/8G+8G/512G PCIe/W11/OLED/15.6)\n",
      "ASUS B1400CBA-0031A1235U 黑 (i5-1235U/16G/512G PCIe/W11P/FHD/14)\n",
      "ASUS VivoBook S15 S3502ZA-0252G12500H 中性灰(i5-12500H/8G+8G/512G PCIe/W11/OLED/15.6)\n",
      "ASUS B2402CBA-0241A1260P 黑(i7-1260P/16G/512G PCIe/W11P/FHD/14)\n",
      "ASUS VivoBook S14 S3402ZA-0222G12500H 中性灰(i5-12500H/8G+8G/512G PCIe/W11/OLED/14)\n",
      "ASUS BM2402CYA-0171A5625U 黑(AMD R5-5625U /8G/512G PCIe/W11P/FHD/14)\n",
      "ASUS B2402CBA-0231A1240P 黑(i5-1240P/16G/512G SSD/W11P/14)\n",
      "ASUS BM2502CYA-0071A5825U 黑(AMD R7-5825U/8G/512G PCIe/W11P/FHD/15.6)\n",
      "ASUS B1400CBA-0241A1235U 黑(i5-1235U/16G/512G SSD+2TB HDD/W11P/14)\n"
     ]
    }
   ],
   "source": [
    "# find data : name\n",
    "# To find() all the entries inside collection name \"name\"\n",
    "cursor = col.find()\n",
    "for record in cursor:\n",
    "\t# print(record)\n",
    "\trecord.get(\"name\")\n",
    "\tprint(record.get(\"name\"))\n"
   ]
  },
  {
   "cell_type": "code",
   "execution_count": 176,
   "metadata": {},
   "outputs": [
    {
     "name": "stdout",
     "output_type": "stream",
     "text": [
      "30000\n",
      "57900\n",
      "62900\n",
      "55900\n",
      "60900\n",
      "32900\n",
      "22900\n",
      "21900\n",
      "32990\n",
      "21900\n",
      "25900\n",
      "21990\n",
      "32900\n",
      "32990\n",
      "32900\n",
      "38800\n",
      "31900\n",
      "27990\n",
      "34990\n",
      "31900\n",
      "35900\n"
     ]
    }
   ],
   "source": [
    "# find data : price\n",
    "cursor = col.find()\n",
    "for record in cursor:\n",
    "\t# print(record)\n",
    "\trecord.get(\"price\")\n",
    "\tprint(record.get(\"price\"))\n"
   ]
  },
  {
   "cell_type": "code",
   "execution_count": 173,
   "metadata": {},
   "outputs": [],
   "source": [
    "\n",
    "    # len(result['prods'])\n",
    "    # print(len(result['prods']))\n",
    "\n",
    "    # len(result['prods']) + len(result['prods'])\n",
    "\n",
    "    # if len(result['prods']) >= 300:\n",
    "    #     break\n",
    "    # else:\n",
    "    #     continue\n",
    "\n",
    "\n",
    "# len(result['prods'])\n",
    "# print(len(result['prods']))\n",
    "\n",
    "# print(result)\n",
    "# d = result['prods']\n",
    "# # print(d.keys())\n",
    "# # a = d.get(\"prods\")\n",
    "# print(d)"
   ]
  }
 ],
 "metadata": {
  "kernelspec": {
   "display_name": "base",
   "language": "python",
   "name": "python3"
  },
  "language_info": {
   "codemirror_mode": {
    "name": "ipython",
    "version": 3
   },
   "file_extension": ".py",
   "mimetype": "text/x-python",
   "name": "python",
   "nbconvert_exporter": "python",
   "pygments_lexer": "ipython3",
   "version": "3.9.12"
  },
  "orig_nbformat": 4,
  "vscode": {
   "interpreter": {
    "hash": "ad2bdc8ecc057115af97d19610ffacc2b4e99fae6737bb82f5d7fb13d2f2c186"
   }
  }
 },
 "nbformat": 4,
 "nbformat_minor": 2
}
