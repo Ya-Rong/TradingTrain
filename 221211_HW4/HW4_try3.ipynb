{
 "cells": [
  {
   "cell_type": "code",
   "execution_count": 106,
   "metadata": {},
   "outputs": [],
   "source": [
    "import json\n",
    "import requests\n",
    "import time"
   ]
  },
  {
   "cell_type": "code",
   "execution_count": 107,
   "metadata": {},
   "outputs": [
    {
     "name": "stdout",
     "output_type": "stream",
     "text": [
      "1\n",
      "2\n",
      "3\n",
      "4\n",
      "5\n",
      "6\n",
      "7\n",
      "8\n",
      "9\n",
      "10\n"
     ]
    }
   ],
   "source": [
    "for page in range(1,11):\n",
    "\n",
    "    print(page)\n",
    "    \n",
    "    # import url\n",
    "    url = f'https://ecshweb.pchome.com.tw/search/v3.3/all/results?q=%E7%AD%86%E9%9B%BB&page={page}&sort=sale/dc'\n",
    "    # get web data\n",
    "    a = requests.get(url)\n",
    "    result = a.json()\n",
    "\n",
    "    time.sleep(0.5)\n",
    "\n",
    "    # len(result['prods'])\n",
    "    # print(len(result['prods']))\n",
    "\n",
    "    # len(result['prods']) + len(result['prods'])\n",
    "\n",
    "    # if len(result['prods']) >= 300:\n",
    "    #     break\n",
    "    # else:\n",
    "    #     continue\n",
    "\n",
    "\n",
    "# len(result['prods'])\n",
    "# print(len(result['prods']))\n",
    "\n",
    "# print(result)\n",
    "# d = result['prods']\n",
    "# # print(d.keys())\n",
    "# # a = d.get(\"prods\")\n",
    "# print(d)"
   ]
  },
  {
   "cell_type": "code",
   "execution_count": 108,
   "metadata": {},
   "outputs": [
    {
     "name": "stdout",
     "output_type": "stream",
     "text": [
      "Requirement already satisfied: pymongo in c:\\programdata\\anaconda3\\lib\\site-packages (4.3.3)\n",
      "Requirement already satisfied: dnspython<3.0.0,>=1.16.0 in c:\\programdata\\anaconda3\\lib\\site-packages (from pymongo) (2.2.1)\n"
     ]
    }
   ],
   "source": [
    "!pip3 install pymongo"
   ]
  },
  {
   "cell_type": "code",
   "execution_count": 109,
   "metadata": {},
   "outputs": [],
   "source": [
    "from pymongo import MongoClient"
   ]
  },
  {
   "cell_type": "code",
   "execution_count": 110,
   "metadata": {},
   "outputs": [],
   "source": [
    "# connect pymongo\n",
    "client = MongoClient(\"mongodb://localhost:27017\")"
   ]
  },
  {
   "cell_type": "code",
   "execution_count": 111,
   "metadata": {},
   "outputs": [],
   "source": [
    "# connect Database\n",
    "db = client[\"HW4\"]"
   ]
  },
  {
   "cell_type": "code",
   "execution_count": 112,
   "metadata": {},
   "outputs": [],
   "source": [
    "# connect collection\n",
    "col = db[\"try3\"]"
   ]
  },
  {
   "cell_type": "code",
   "execution_count": 113,
   "metadata": {},
   "outputs": [
    {
     "name": "stdout",
     "output_type": "stream",
     "text": [
      "<pymongo.results.InsertOneResult object at 0x000001AC2014BC10>\n"
     ]
    }
   ],
   "source": [
    "# insert one\n",
    "dict = {\n",
    "    \"name\":\"laptop\",\n",
    "    \"describe\":\"3\",\n",
    "    \"price\":\"30000\",\n",
    "    \"orignPrice\":\"30000\",\n",
    "    \"channel\":\"pchome\"\n",
    "    }\n",
    "\n",
    "x = col.insert_one(dict)\n",
    "print(x)"
   ]
  },
  {
   "cell_type": "code",
   "execution_count": 114,
   "metadata": {},
   "outputs": [
    {
     "data": {
      "text/plain": [
       "<pymongo.results.InsertManyResult at 0x1ac1f404430>"
      ]
     },
     "execution_count": 114,
     "metadata": {},
     "output_type": "execute_result"
    }
   ],
   "source": [
    "# insert many\n",
    "# save to mongodb\n",
    "col.insert_many(result['prods'])"
   ]
  }
 ],
 "metadata": {
  "kernelspec": {
   "display_name": "base",
   "language": "python",
   "name": "python3"
  },
  "language_info": {
   "codemirror_mode": {
    "name": "ipython",
    "version": 3
   },
   "file_extension": ".py",
   "mimetype": "text/x-python",
   "name": "python",
   "nbconvert_exporter": "python",
   "pygments_lexer": "ipython3",
   "version": "3.9.12"
  },
  "orig_nbformat": 4,
  "vscode": {
   "interpreter": {
    "hash": "ad2bdc8ecc057115af97d19610ffacc2b4e99fae6737bb82f5d7fb13d2f2c186"
   }
  }
 },
 "nbformat": 4,
 "nbformat_minor": 2
}
