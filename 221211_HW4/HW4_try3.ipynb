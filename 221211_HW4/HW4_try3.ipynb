{
 "cells": [
  {
   "cell_type": "code",
   "execution_count": 213,
   "metadata": {},
   "outputs": [],
   "source": [
    "import requests\n",
    "import time"
   ]
  },
  {
   "cell_type": "code",
   "execution_count": 231,
   "metadata": {},
   "outputs": [
    {
     "name": "stdout",
     "output_type": "stream",
     "text": [
      "1\n",
      "2\n",
      "3\n",
      "4\n",
      "5\n",
      "6\n",
      "7\n",
      "8\n",
      "9\n",
      "10\n",
      "20\n"
     ]
    }
   ],
   "source": [
    "for page in range(1,11):\n",
    "\n",
    "    print(page)\n",
    "    \n",
    "    # import url\n",
    "    url = f'https://ecshweb.pchome.com.tw/search/v3.3/all/results?q=%E7%AD%86%E9%9B%BB&page={page}&sort=sale/dc'\n",
    "    # get web data\n",
    "    a = requests.get(url)\n",
    "    result = a.json()\n",
    "\n",
    "    time.sleep(0.5)"
   ]
  },
  {
   "cell_type": "code",
   "execution_count": 229,
   "metadata": {},
   "outputs": [
    {
     "name": "stdout",
     "output_type": "stream",
     "text": [
      "20\n"
     ]
    }
   ],
   "source": [
    "print(len(result['prods']))"
   ]
  },
  {
   "cell_type": "code",
   "execution_count": 228,
   "metadata": {},
   "outputs": [
    {
     "ename": "NameError",
     "evalue": "name '_id' is not defined",
     "output_type": "error",
     "traceback": [
      "\u001b[1;31m---------------------------------------------------------------------------\u001b[0m",
      "\u001b[1;31mNameError\u001b[0m                                 Traceback (most recent call last)",
      "\u001b[1;32mc:\\Users\\happy\\Downloads\\GitHub_TradingTrain\\TradingTrain\\221211_HW4\\HW4_try3.ipynb Cell 3\u001b[0m in \u001b[0;36m<cell line: 1>\u001b[1;34m()\u001b[0m\n\u001b[1;32m----> <a href='vscode-notebook-cell:/c%3A/Users/happy/Downloads/GitHub_TradingTrain/TradingTrain/221211_HW4/HW4_try3.ipynb#X26sZmlsZQ%3D%3D?line=0'>1</a>\u001b[0m a \u001b[39m=\u001b[39m col\u001b[39m.\u001b[39mfind({},{_id: \u001b[39m0\u001b[39m,price: \u001b[39m1\u001b[39m})\n\u001b[0;32m      <a href='vscode-notebook-cell:/c%3A/Users/happy/Downloads/GitHub_TradingTrain/TradingTrain/221211_HW4/HW4_try3.ipynb#X26sZmlsZQ%3D%3D?line=1'>2</a>\u001b[0m \u001b[39mprint\u001b[39m(a)\n",
      "\u001b[1;31mNameError\u001b[0m: name '_id' is not defined"
     ]
    }
   ],
   "source": [
    "a = col.find({},{ _id: 0, price: 1 })\n",
    "print(a)"
   ]
  },
  {
   "cell_type": "code",
   "execution_count": 216,
   "metadata": {},
   "outputs": [
    {
     "name": "stdout",
     "output_type": "stream",
     "text": [
      "63a452ba0fb30afb88e77ad7\n",
      "63a452ba0fb30afb88e77ad8\n",
      "63a452ba0fb30afb88e77ad9\n",
      "63a452ba0fb30afb88e77ada\n",
      "63a452ba0fb30afb88e77adb\n",
      "63a452ba0fb30afb88e77adc\n",
      "63a452ba0fb30afb88e77add\n",
      "63a452ba0fb30afb88e77ade\n",
      "63a452ba0fb30afb88e77adf\n",
      "63a452ba0fb30afb88e77ae0\n",
      "63a452ba0fb30afb88e77ae1\n",
      "63a452ba0fb30afb88e77ae2\n",
      "63a452ba0fb30afb88e77ae3\n",
      "63a452ba0fb30afb88e77ae4\n",
      "63a452ba0fb30afb88e77ae5\n",
      "63a452ba0fb30afb88e77ae6\n",
      "63a452ba0fb30afb88e77ae7\n",
      "63a452ba0fb30afb88e77ae8\n",
      "63a452ba0fb30afb88e77ae9\n",
      "63a452ba0fb30afb88e77aea\n",
      "63a452ba0fb30afb88e77aeb\n",
      "63a8330f0fb30afb88e77aed\n",
      "63a8330f0fb30afb88e77aee\n",
      "63a8330f0fb30afb88e77aef\n",
      "63a8330f0fb30afb88e77af0\n",
      "63a8330f0fb30afb88e77af1\n",
      "63a8330f0fb30afb88e77af2\n",
      "63a8330f0fb30afb88e77af3\n",
      "63a8330f0fb30afb88e77af4\n",
      "63a8330f0fb30afb88e77af5\n",
      "63a8330f0fb30afb88e77af6\n",
      "63a8330f0fb30afb88e77af7\n",
      "63a8330f0fb30afb88e77af8\n",
      "63a8330f0fb30afb88e77af9\n",
      "63a8330f0fb30afb88e77afa\n",
      "63a8330f0fb30afb88e77afb\n",
      "63a8330f0fb30afb88e77afc\n",
      "63a8330f0fb30afb88e77afd\n",
      "63a8330f0fb30afb88e77afe\n",
      "63a8330f0fb30afb88e77aff\n",
      "63a8330f0fb30afb88e77b00\n",
      "63a8330f0fb30afb88e77b01\n"
     ]
    }
   ],
   "source": [
    "# find data : _id\n",
    "cursor = col.find()\n",
    "for record in cursor:\n",
    "\t# print(record)\n",
    "\trecord.get(\"_id\")\n",
    "\tprint(record.get(\"_id\"))\n"
   ]
  },
  {
   "cell_type": "code",
   "execution_count": 217,
   "metadata": {},
   "outputs": [
    {
     "name": "stdout",
     "output_type": "stream",
     "text": [
      "laptop\n",
      "ROG Flow Z13 GZ301ZE-0021A12900H 無盡黑(i9-12900H/8G+8G/RTX3050 Ti/1TB PCIe/W11)\n",
      "ROG Strix G17 G713RW-0022F6900HX(AMD R9-6900HX/16G/RTX3070 Ti/1TB PCIe/W11/FHD/360Hz/17.3)\n",
      "ROG Zephyrus M16 GU603ZM-0032A12700H (i7-12700H/8GB*2/RTX 3060/512GB PCIe/W11/165Hz/16)\n",
      "ROG Zephyrus G15 GA503RW-0042E6900HS(AMD R9-6900HS/16G/RTX 3070Ti/1TB PCIe/W11/WQHD)\n",
      "ASUS VivoBook S15 S3502ZA-0242K12500H 搖滾黑(i5-12500H/8G+8G/512G PCIe/W11/OLED/15.6)\n",
      "ASUS VivoBook 16 X1605ZA-0031K1235U 搖滾黑(i5-1235U/8G/512G PCIe/W11/FHD/16)\n",
      "ASUS B1408CEAE_T-0111A1135G7 黑 (i5-1135G7/8G/512G PCIe/W10P/FHD/14)\n",
      "ASUS B1400CBA-0131A1235U 黑 (i5-1235U/16G/512G PCIe/W11P/FHD/14)\n",
      "ASUS B1508CEAE_T-0011A1135G7 黑 (i5-1135G7/8G/512G PCIe/W10P/FHD/15.6)\n",
      "ASUS B1408CEAE_T-0121A1165G7 黑 (i7-1165G7/8G/512G PCIe/W10P/FHD/14)\n",
      "ASUS Vivobook 13 Slate OLED T3300KA-0302KN6000 (N6000/8G/128G PCIe/OLED_T/W11 Home S/FHD/13.3)\n",
      "ASUS VivoBook S15 S3502ZA-0262E12500H 初心綠(i5-12500H/8G+8G/512G PCIe/W11/OLED/15.6)\n",
      "ASUS B1400CBA-0031A1235U 黑 (i5-1235U/16G/512G PCIe/W11P/FHD/14)\n",
      "ASUS VivoBook S15 S3502ZA-0252G12500H 中性灰(i5-12500H/8G+8G/512G PCIe/W11/OLED/15.6)\n",
      "ASUS B2402CBA-0241A1260P 黑(i7-1260P/16G/512G PCIe/W11P/FHD/14)\n",
      "ASUS VivoBook S14 S3402ZA-0222G12500H 中性灰(i5-12500H/8G+8G/512G PCIe/W11/OLED/14)\n",
      "ASUS BM2402CYA-0171A5625U 黑(AMD R5-5625U /8G/512G PCIe/W11P/FHD/14)\n",
      "ASUS B2402CBA-0231A1240P 黑(i5-1240P/16G/512G SSD/W11P/14)\n",
      "ASUS BM2502CYA-0071A5825U 黑(AMD R7-5825U/8G/512G PCIe/W11P/FHD/15.6)\n",
      "ASUS B1400CBA-0241A1235U 黑(i5-1235U/16G/512G SSD+2TB HDD/W11P/14)\n",
      "laptop\n",
      "ASUS B2502CBA-0291A1240P 黑(i5-1240P/16G/512G PCIe/W10P/FHD/15.6)\n",
      "ASUS BM2502CYA-0061A5625U 黑(AMD R5-5625U/8G/512G PCIe/W11P/FHD/15.6)\n",
      "ASUS VivoBook S14 S3402ZA-0222G12500H 中性灰(i5-12500H/8G+8G/512G PCIe/W11/OLED/14)\n",
      "ASUS B2402CBA-0591A1240P 黑(i5-1240P/16G/512G PCIe/W10P/FHD/14)\n",
      "ASUS B2402CBA-0181A1240P 黑(i5-1240P/16G/512G PCIe/W11P/FHD/14)\n",
      "ASUS B1400CBA-0241A1235U 黑(i5-1235U/16G/512G SSD+2TB HDD/W11P/14)\n",
      "ASUS B2402CBA-0581A1260P 黑(i7-1260P/16G/512G PCIe/W10P/FHD/14)\n",
      "ASUS BM2402CYA-0161A5825U 黑(AMD R7-5825U/8G/512G PCIe/W11P/FHD/14)\n",
      "ASUS B2402CBA-0231A1240P 黑(i5-1240P/16G/512G SSD/W11P/14)\n",
      "ASUS BM2502CYA-0071A5825U 黑(AMD R7-5825U/8G/512G PCIe/W11P/FHD/15.6)\n",
      "◤福利品◢ROG Flow X13 GV301RE-0022A6900HS(AMD R9-6900HS/8G*2/RTX3050Ti/1T PCIe/W11/13.4)\n",
      "◤福利品◢ASUS ROG Strix G15 G513RC-0042F6800H 潮魂黑(R7-6800H/8G/RTX 3050-4G/512G PCIE/W11)\n",
      "ASUS ROG Strix SCAR 17 G733ZM-0022S12900H (i9-12900H/8G+8G/RTX 3060/1TB SSD/FHD/360Hz/17.3)\n",
      "ROG Zephyrus Flow X16 GV601RM-0032E6800HS(AMD R7-6800HS/8G*2/RTX3060/1TB PCIe/W11/WQXGA_T/16)\n",
      "ASUS ROG Zephyrus G14 GA402RJ-0066E6900HS日蝕灰(R9-6900HS/8G*2/AMD RX6700S/1TB PCIe/W11/120Hz)\n",
      "ROG Zephyrus M16 GU603ZM-0032A12700H (i7-12700H/8GB*2/RTX 3060/512GB PCIe/W11/165Hz/16)\n",
      "ROG Zephyrus M16 GU603ZM-0032A12700H (i7-12700H/8GB*2/RTX 3060/512GB PCIe/W11/165Hz/16)\n",
      "ASUS ROG Strix SCAR 17 G733ZM-0022S12900H (i9-12900H/8G+8G/RTX 3060/1TB SSD/360Hz/17.3)\n",
      "ROG Flow Z13 GZ301ZE-0021A12900H 無盡黑(i9-12900H/8G+8G/RTX3050 Ti/1TB PCIe/W11)\n",
      "ROG Zephyrus G15 GA503RW-0042E6900HS(AMD R9-6900HS/16G/RTX 3070Ti/1TB PCIe/W11/WQHD/240Hz)\n"
     ]
    }
   ],
   "source": [
    "# find data : name\n",
    "# To find() all the entries inside collection name \"name\"\n",
    "cursor = col.find()\n",
    "for record in cursor:\n",
    "\t# print(record)\n",
    "\trecord.get(\"name\")\n",
    "\tprint(record.get(\"name\"))\n"
   ]
  },
  {
   "cell_type": "code",
   "execution_count": 218,
   "metadata": {},
   "outputs": [
    {
     "name": "stdout",
     "output_type": "stream",
     "text": [
      "30000\n",
      "57900\n",
      "62900\n",
      "55900\n",
      "60900\n",
      "32900\n",
      "22900\n",
      "21900\n",
      "32990\n",
      "21900\n",
      "25900\n",
      "21990\n",
      "32900\n",
      "32990\n",
      "32900\n",
      "38800\n",
      "31900\n",
      "27990\n",
      "34990\n",
      "31900\n",
      "35900\n",
      "30000\n",
      "34990\n",
      "27990\n",
      "31900\n",
      "34990\n",
      "34990\n",
      "35900\n",
      "38800\n",
      "31900\n",
      "34990\n",
      "31900\n",
      "45999\n",
      "34999\n",
      "52900\n",
      "57900\n",
      "54900\n",
      "54900\n",
      "55900\n",
      "56900\n",
      "57900\n",
      "62900\n"
     ]
    }
   ],
   "source": [
    "# find data : price\n",
    "cursor = col.find()\n",
    "for record in cursor:\n",
    "\t# print(record)\n",
    "\trecord.get(\"price\")\n",
    "\tprint(record.get(\"price\"))\n"
   ]
  },
  {
   "cell_type": "code",
   "execution_count": 219,
   "metadata": {},
   "outputs": [
    {
     "name": "stdout",
     "output_type": "stream",
     "text": [
      "Requirement already satisfied: pymongo in c:\\programdata\\anaconda3\\lib\\site-packages (4.3.3)\n",
      "Requirement already satisfied: dnspython<3.0.0,>=1.16.0 in c:\\programdata\\anaconda3\\lib\\site-packages (from pymongo) (2.2.1)\n"
     ]
    }
   ],
   "source": [
    "!pip3 install pymongo"
   ]
  },
  {
   "cell_type": "code",
   "execution_count": 220,
   "metadata": {},
   "outputs": [],
   "source": [
    "from pymongo import MongoClient"
   ]
  },
  {
   "cell_type": "code",
   "execution_count": 221,
   "metadata": {},
   "outputs": [],
   "source": [
    "# connect pymongo\n",
    "client = MongoClient(\"mongodb://localhost:27017\")"
   ]
  },
  {
   "cell_type": "code",
   "execution_count": 222,
   "metadata": {},
   "outputs": [],
   "source": [
    "# connect Database\n",
    "db = client[\"HW4\"]"
   ]
  },
  {
   "cell_type": "code",
   "execution_count": 223,
   "metadata": {},
   "outputs": [],
   "source": [
    "# connect collection\n",
    "col = db[\"try3\"]"
   ]
  },
  {
   "cell_type": "code",
   "execution_count": 224,
   "metadata": {},
   "outputs": [
    {
     "name": "stdout",
     "output_type": "stream",
     "text": [
      "<pymongo.results.InsertOneResult object at 0x000001AC212F1790>\n"
     ]
    }
   ],
   "source": [
    "# insert one\n",
    "dict = {\n",
    "    \"name\":\"laptop\",\n",
    "    \"describe\":\"3\",\n",
    "    \"price\":\"30000\",\n",
    "    \"orignPrice\":\"30000\",\n",
    "    \"channel\":\"pchome\"\n",
    "    }\n",
    "\n",
    "x = col.insert_one(dict)\n",
    "print(x)"
   ]
  },
  {
   "cell_type": "code",
   "execution_count": 225,
   "metadata": {},
   "outputs": [
    {
     "data": {
      "text/plain": [
       "<pymongo.results.InsertManyResult at 0x1ac21330f70>"
      ]
     },
     "execution_count": 225,
     "metadata": {},
     "output_type": "execute_result"
    }
   ],
   "source": [
    "# insert many\n",
    "# save to mongodb\n",
    "col.insert_many(result['prods'])"
   ]
  },
  {
   "cell_type": "code",
   "execution_count": 226,
   "metadata": {},
   "outputs": [],
   "source": [
    "\n",
    "    # len(result['prods'])\n",
    "    # print(len(result['prods']))\n",
    "\n",
    "    # len(result['prods']) + len(result['prods'])\n",
    "\n",
    "    # if len(result['prods']) >= 300:\n",
    "    #     break\n",
    "    # else:\n",
    "    #     continue\n",
    "\n",
    "\n",
    "# len(result['prods'])\n",
    "# print(len(result['prods']))\n",
    "\n",
    "# print(result)\n",
    "# d = result['prods']\n",
    "# # print(d.keys())\n",
    "# # a = d.get(\"prods\")\n",
    "# print(d)"
   ]
  }
 ],
 "metadata": {
  "kernelspec": {
   "display_name": "base",
   "language": "python",
   "name": "python3"
  },
  "language_info": {
   "codemirror_mode": {
    "name": "ipython",
    "version": 3
   },
   "file_extension": ".py",
   "mimetype": "text/x-python",
   "name": "python",
   "nbconvert_exporter": "python",
   "pygments_lexer": "ipython3",
   "version": "3.9.12"
  },
  "orig_nbformat": 4,
  "vscode": {
   "interpreter": {
    "hash": "ad2bdc8ecc057115af97d19610ffacc2b4e99fae6737bb82f5d7fb13d2f2c186"
   }
  }
 },
 "nbformat": 4,
 "nbformat_minor": 2
}
