{
 "cells": [
  {
   "cell_type": "code",
   "execution_count": 41,
   "metadata": {},
   "outputs": [],
   "source": [
    "import requests \n",
    "import json\n",
    "import time\n",
    "from time import sleep\n",
    "import pandas as pd"
   ]
  },
  {
   "cell_type": "code",
   "execution_count": 42,
   "metadata": {},
   "outputs": [
    {
     "name": "stdout",
     "output_type": "stream",
     "text": [
      "1\n",
      "2\n",
      "3\n",
      "4\n",
      "5\n",
      "6\n",
      "7\n",
      "8\n",
      "9\n",
      "10\n",
      "11\n",
      "12\n",
      "13\n",
      "14\n",
      "15\n",
      "16\n"
     ]
    }
   ],
   "source": [
    "num = 0\n",
    "data = []\n",
    "page = 0\n",
    "\n",
    "while num <= 300:\n",
    "# (check data length)\n",
    "\n",
    "    page = page + 1\n",
    "    print(page)\n",
    "\n",
    "    # import url\n",
    "    url = f'https://ecshweb.pchome.com.tw/search/v3.3/all/results?q=%E7%AD%86%E9%9B%BB&page={page}&sort=sale/dc'\n",
    "\n",
    "    # get web data\n",
    "    a = requests.get(url)\n",
    "    result = a.json()\n",
    "    \n",
    "    data.append(result['prods'])\n",
    "    num += 20\n",
    "\n",
    "    time.sleep(0.5)\n",
    "\n",
    "# for page in range(1,11):\n",
    "#     url = f'https://ecshweb.pchome.com.tw/search/v3.3/all/results?q=%E7%AD%86%E9%9B%BB&page={page}&sort=sale/dc'\n",
    "\n",
    "#     a = requests.get(url)\n",
    "#     result = a.json()\n",
    "#     temp_result = result['prods']\n",
    "\n",
    "#     # data.append(result['prods'])\n",
    "\n",
    "#     # col.insert_many(result['prods'])\n",
    "#     for i in temp_result:\n",
    "#         num.append(i['price'])\n",
    "\n",
    "# print(len(num))\n",
    "# print(data)\n",
    "# print(len(temp_result))\n"
   ]
  },
  {
   "cell_type": "code",
   "execution_count": 43,
   "metadata": {},
   "outputs": [
    {
     "name": "stdout",
     "output_type": "stream",
     "text": [
      "16\n"
     ]
    }
   ],
   "source": [
    "print(len(data))"
   ]
  },
  {
   "cell_type": "code",
   "execution_count": 44,
   "metadata": {},
   "outputs": [],
   "source": [
    "# def parse_json(data):\n",
    "#     return json.loads(json_util.dumps(data))\n",
    "# # jsondata = json.dumps(data)"
   ]
  },
  {
   "cell_type": "code",
   "execution_count": 45,
   "metadata": {},
   "outputs": [
    {
     "name": "stdout",
     "output_type": "stream",
     "text": [
      "Requirement already satisfied: pymongo in c:\\programdata\\anaconda3\\lib\\site-packages (4.3.3)\n",
      "Requirement already satisfied: dnspython<3.0.0,>=1.16.0 in c:\\programdata\\anaconda3\\lib\\site-packages (from pymongo) (2.2.1)\n"
     ]
    }
   ],
   "source": [
    "!pip3 install pymongo"
   ]
  },
  {
   "cell_type": "code",
   "execution_count": 46,
   "metadata": {},
   "outputs": [],
   "source": [
    "from pymongo import MongoClient"
   ]
  },
  {
   "cell_type": "code",
   "execution_count": 47,
   "metadata": {},
   "outputs": [],
   "source": [
    "# connect pymongo\n",
    "client = MongoClient(\"mongodb://localhost:27017\")\n",
    "# connect Database\n",
    "db = client[\"HW4\"]\n",
    "# connect collection\n",
    "col = db[\"try4\"]"
   ]
  },
  {
   "cell_type": "code",
   "execution_count": 49,
   "metadata": {},
   "outputs": [
    {
     "data": {
      "text/plain": [
       "<pymongo.results.InsertManyResult at 0x2c05113c2e0>"
      ]
     },
     "execution_count": 49,
     "metadata": {},
     "output_type": "execute_result"
    }
   ],
   "source": [
    "# insert many\n",
    "# save to mongodb\n",
    "# 還是只能存一頁資料，但前面可輸出全部資料\n",
    "col.insert_many(result['prods'])"
   ]
  }
 ],
 "metadata": {
  "kernelspec": {
   "display_name": "base",
   "language": "python",
   "name": "python3"
  },
  "language_info": {
   "codemirror_mode": {
    "name": "ipython",
    "version": 3
   },
   "file_extension": ".py",
   "mimetype": "text/x-python",
   "name": "python",
   "nbconvert_exporter": "python",
   "pygments_lexer": "ipython3",
   "version": "3.9.12"
  },
  "orig_nbformat": 4,
  "vscode": {
   "interpreter": {
    "hash": "ad2bdc8ecc057115af97d19610ffacc2b4e99fae6737bb82f5d7fb13d2f2c186"
   }
  }
 },
 "nbformat": 4,
 "nbformat_minor": 2
}
